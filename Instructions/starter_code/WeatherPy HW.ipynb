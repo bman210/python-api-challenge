{
 "cells": [
  {
   "cell_type": "markdown",
   "metadata": {},
   "source": [
    "# WeatherPy\n",
    "----\n",
    "\n",
    "#### Note\n",
    "* Instructions have been included for each segment. You do not have to follow them exactly, but they are included to help you think through the steps."
   ]
  },
  {
   "cell_type": "code",
   "execution_count": 111,
   "metadata": {
    "scrolled": true
   },
   "outputs": [],
   "source": [
    "# Dependencies and Setup\n",
    "import matplotlib.pyplot as plt\n",
    "import pandas as pd\n",
    "import numpy as np\n",
    "import requests\n",
    "import time\n",
    "from scipy.stats import linregress\n",
    "import json\n",
    "# Import API key\n",
    "from api_keys import weather_api_key\n",
    "\n",
    "# Incorporated citipy to determine city based on latitude and longitude\n",
    "from citipy import citipy\n",
    "\n",
    "# Output File (CSV)\n",
    "output_data_file = \"output_data/cities.csv\"\n",
    "\n",
    "# Range of latitudes and longitudes\n",
    "lat_range = (-90, 90)\n",
    "lng_range = (-180, 180)"
   ]
  },
  {
   "cell_type": "markdown",
   "metadata": {},
   "source": [
    "## Generate Cities List"
   ]
  },
  {
   "cell_type": "code",
   "execution_count": 112,
   "metadata": {},
   "outputs": [
    {
     "data": {
      "text/plain": [
       "611"
      ]
     },
     "execution_count": 112,
     "metadata": {},
     "output_type": "execute_result"
    }
   ],
   "source": [
    "# List for holding lat_lngs and cities\n",
    "lat_lngs = []\n",
    "cities = ['dillingen', 'novara', 'butaritari', 'airai', 'portland', 'rikitea', 'venice', 'busselton', 'nome', 'albany', 'xining', 'mataura', 'palabuhanratu', 'cape town', 'chuy', 'umm lajj', 'barentsburg', 'kalmunai', 'hithadhoo', 'cauquenes', 'punta arenas', 'seredka', 'taolanaro', 'moose factory', 'kapaa', 'aksarka', 'bethel', 'leirvik', 'lavrentiya', 'burns lake', 'saint george', 'nikolskoye', 'bredasdorp', 'hilo', 'novonikolayevskiy', 'atuona', 'jamestown', 'awjilah', 'samusu', 'ribeira grande', 'pietarsaari', 'vaini', 'saldanha', 'berlevag', 'ketchikan', 'dianopolis', 'leh', 'tautira', 'otavi', 'clyde river', 'sao filipe', 'esterhazy', 'dunedin', 'pisco', 'saint-philippe', 'ushuaia', 'noumea', 'simbahan', 'hermanus', 'saint-georges', 'iroquois', 'port alfred', 'broken hill', 'tuktoyaktuk', 'gari', 'novyy urgal', 'pinotepa nacional', 'qaanaaq', 'castro', 'tumannyy', 'taoudenni', 'kozan', 'georgetown', 'carutapera', 'tsihombe', 'carnarvon', 'svetlogorsk', 'tolaga bay', 'dikson', 'jablanica', 'new norfolk', 'vestmannaeyjar', 'namatanai', 'santa fe', 'nabire', 'madimba', 'severo-kurilsk', 'rivera', 'fort saint james', 'kavieng', 'sopelana', 'christchurch', 'marcona', 'aksay', 'ambon', 'hobart', 'ponta do sol', 'mys shmidta', 'dingle', 'east london', 'mahebourg', 'roma', 'barrow', 'faanui', 'byron bay', 'bethanien', 'road town', 'luderitz', 'belushya guba', 'kaitangata', 'show low', 'bluff', 'port elizabeth', 'aquiraz', 'gumdag', 'beawar', 'longyearbyen', 'helong', 'umzimvubu', 'ngukurr', 'avarua', 'matara', 'chokurdakh', 'mar del plata', 'katsuura', 'beringovskiy', 'muisne', 'molteno', 'channel-port aux basques', 'ryotsu', 'attawapiskat', 'mecca', 'provideniya', 'asyut', 'nedjo', 'yellowknife', 'lagoa', 'sentyabrskiy', 'bouillante', 'paamiut', 'asosa', 'inyonga', 'georgiyevka', 'illoqqortoormiut', 'la ronge', 'premnitz', 'pospelikha', 'tsiroanomandidy', 'nouadhibou', 'arraial do cabo', 'parian dakula', 'corrales', 'vardo', 'sola', 'norman wells', 'terrace', 'goundam', 'chaman', 'hofn', 'filadelfia', 'prescott valley', 'manacapuru', 'hasaki', 'churapcha', 'deputatskiy', 'haines junction', 'rocha', 'lompoc', 'ancud', 'griffith', 'iquitos', 'guerrero negro', 'kodiak', 'juxtlahuaca', 'ilulissat', 'bambous virieux', 'coquimbo', 'lorengau', 'tuatapere', 'richards bay', 'blackwater', 'tasiilaq', 'wagar', 'santo antonio do sudoeste', 'vestmanna', 'longlac', 'torbay', 'mount gambier', 'amderma', 'flinders', 'talcahuano', 'grand river south east', 'tiksi', 'victoria', 'kembe', 'westport', 'piat', 'saleaula', 'ottawa', 'mahon', 'port lincoln', 'saskylakh', 'hlukhiv', 'grindavik', 'sangar', 'muravlenko', 'porto novo', 'port-louis', 'bengkulu', 'jiexiu', 'asayita', 'marin', 'wattegama', 'bilibino', 'cherskiy', 'husavik', 'umm kaddadah', 'nikko', 'surt', 'port hedland', 'inhambane', 'ayan', 'la asuncion', 'puerto ayora', 'mulege', 'cabo san lucas', 'yar-sale', 'lebu', 'santa cruz', 'north bend', 'inuvik', 'astana', 'kayes', 'sampit', 'cervo', 'sofiysk', 'samarai', 'rock sound', 'mehamn', 'kramat', 'mayor pablo lagerenza', 'ucluelet', 'aklavik', 'omsukchan', 'bodhan', 'upernavik', 'ozernovskiy', 'venado tuerto', 'howard springs', 'kruisfontein', 'buraydah', 'zhezkazgan', 'kirgiz-miyaki', 'polyarnyy', 'iqaluit', 'le mans', 'cidreira', 'constitucion', 'vetlanda', 'san javier', 'san quintin', 'garwa', 'oksfjord', 'karratha', 'liberty', 'luwuk', 'singkawang', 'saint anthony', 'egvekinot', 'kazalinsk', 'meybod', 'vaitupu', 'ostrovnoy', 'saint-paul', 'kakrala', 'nanfeng', 'lichuan', 'touho', 'susehri', 'three hills', 'cockburn harbour', 'kharakvasla', 'aleksandrovka', 'billings', 'pierre', 'joshimath', 'barcelos', 'jiroft', 'bismarck', 'toliary', 'nago', 'kenai', 'sarkand', 'kibakwe', 'yerbogachen', 'bhawanipatna', 'benghazi', 'kahului', 'lodwar', 'santo stino di livenza', 'wajir', 'ambulu', 'gorno-chuyskiy', 'nizhneyansk', 'bereda', 'sretensk', 'oranjestad', 'torata', 'cap malheureux', 'ahipara', 'abu zabad', 'makung', 'esperance', 'camacha', 'salvador', 'manicore', 'khatanga', 'marfino', 'fairbanks', 'motygino', 'eskisehir', 'belyy yar', 'ippy', 'san patricio', 'togur', 'brae', 'aswan', 'codrington', 'gulabpura', 'hamilton', 'leningradskiy', 'amasia', 'pekalongan', 'benxi', 'miri', 'akhtanizovskaya', 'antofagasta', 'hovd', 'urusha', 'kasempa', 'beisfjord', 'itarema', 'abaza', 'thompson', 'baykit', 'sindor', 'trincomalee', 'guadalupe y calvo', 'doha', 'hurup', 'geraldton', 'istok', 'davila', 'ahuimanu', 'touros', 'port macquarie', 'college', 'perry', 'dunkirk', 'kamenka', 'grand gaube', 'opuwo', 'marsh harbour', 'nemuro', 'chimbote', 'salamiyah', 'luanda', 'diu', 'conceicao do araguaia', 'nanortalik', 'los llanos de aridane', 'zudilovo', 'champerico', 'bentiu', 'rudnogorsk', 'borgo san dalmazzo', 'pimentel', 'sao jose da coroa grande', 'sao joao da barra', 'san jose', 'korla', 'bani', 'port keats', 'terracina', 'fresnillo', 'san pedro de macoris', 'osakarovka', 'fortuna', 'lovozero', 'kitamoto', 'sioux lookout', 'shitanjing', 'guozhen', 'minab', 'raymondville', 'nchelenge', 'mackay', 'half moon bay', 'boende', 'el wasta', 'ejido', 'puerto escondido', 'maradi', 'voskresenskoye', 'chantada', 'houma', 'bara', 'banjar', 'samalaeulu', 'labuhan', 'nassau', 'estepona', 'salta', 'seymchan', 'westerland', 'teguise', 'valparaiso', 'bandarbeyla', 'pangody', 'ilhabela', 'steamboat springs', 'brigantine', 'najran', 'fare', 'mafra', 'makakilo city', 'marawi', 'narsaq', 'coos bay', 'mikuni', 'adeje', 'yirol', 'bathsheba', 'satitoa', 'kavaratti', 'sitka', 'guaruja', 'pevek', 'ellensburg', 'lykhivka', 'krasnokamensk', 'azimur', 'savannah bight', 'leninskoye', 'samfya', 'yulara', 'do gonbadan', 'jinchang', 'kyritz', 'san policarpo', 'orlik', 'scarborough', 'tarudant', 'avera', 'pringsewu', 'aksu', 'tilichiki', 'ocampo', 'killybegs', 'taman', 'maniitsoq', 'kaeo', 'ileza', 'amapa', 'almaznyy', 'micheweni', 'kilimatinde', 'cap-aux-meules', 'karabash', 'otjiwarongo', 'batagay', 'mount pleasant', 'maxixe', 'mao', 'manado', 'bayanday', 'merauke', 'longjiang', 'kyabe', 'cordoba', 'tambacounda', 'argir', 'belaya gora', 'verkh-suetka', 'formoso do araguaia', 'sulangan', 'mbini', 'moerai', 'aiken', 'lazaro cardenas', 'alice springs', 'haradok', 'turukhansk', 'sur', 'port-cartier', 'bela', 'tateyama', 'okha', 'gat', 'george town', 'port blair', 'wainwright', 'petropavlovsk-kamchatskiy', 'boca do acre', 'vanimo', 'yuancheng', 'esmeraldas', 'rawson', 'henties bay', 'coihaique', 'oistins', 'anadyr', 'yomitan', 'mangrol', 'maloshuyka', 'takoradi', 'havre-saint-pierre', 'urengoy', 'glenwood springs', 'two hills', 'roald', 'padang', 'mrirt', 'viedma', 'tura', 'richmond', 'kidal', 'maroantsetra', 'kudahuvadhoo', 'pokhara', 'nurota', 'chicama', 'kirillov', 'rio gallegos', 'masuguru', 'tokonou', 'mae sai', 'kuliyapitiya', 'buzmeyin', 'souillac', 'buri', 'goderich', 'mangile', 'sharan', 'bethal', 'zeya', 'harper', 'serenje', 'lalitpur', 'vostok', 'montmagny', 'klaksvik', 'pacific grove', 'bolshaya atnya', 'doctor pedro p. pena', 'saint-louis', 'meyungs', 'mount isa', 'porbandar', 'tucurui', 'pozo colorado', 'cayenne', 'eldorado', 'bonavista', 'matozinhos', 'nuuk', 'neringa', 'khani', 'teguldet', 'broome', 'luganville', 'saryshagan', 'mana', 'tahe', 'gushikawa', 'palmer', 'la gaulette', 'carauari', 'joao pinheiro', 'orange', 'bull savanna', 'toftir', 'xuanzhou', 'aripuana', 'marseille', 'pontes e lacerda', 'harunabad', 'yandoon', 'tezu', 'hapur', 'meulaboh', 'bima', 'fukue', 'caravelas', 'rio grande', 'debre sina', 'chato', 'dutse', 'pasinler', 'narkevychi', 'tabou', 'guarapari', 'araouane', 'tukrah', 'groningen', 'kanker', 'lubango', 'caramay', 'shingu', 'vao', 'marystown']\n",
    "\n",
    "# # Create a set of random lat and lng combinations\n",
    "# lats = np.random.uniform(lat_range[0], lat_range[1], size=1500)\n",
    "# lngs = np.random.uniform(lng_range[0], lng_range[1], size=1500)\n",
    "# lat_lngs = zip(lats, lngs)\n",
    "\n",
    "# # # Identify nearest city for each lat, lng combination\n",
    "# for lat_lng in lat_lngs:\n",
    "#     city = citipy.nearest_city(lat_lng[0], lat_lng[1]).city_name\n",
    "    \n",
    "#      # If the city is unique, then add it to a our cities list\n",
    "#     if city not in cities:\n",
    "#         cities.append(city)\n",
    "\n",
    "# Print the city count to confirm sufficient count\n",
    "len(cities)"
   ]
  },
  {
   "cell_type": "code",
   "execution_count": 113,
   "metadata": {},
   "outputs": [
    {
     "name": "stdout",
     "output_type": "stream",
     "text": [
      "{\n",
      "   \"base\": \"stations\",\n",
      "   \"clouds\": {\n",
      "      \"all\": 83\n",
      "   },\n",
      "   \"cod\": 200,\n",
      "   \"coord\": {\n",
      "      \"lat\": 49.35,\n",
      "      \"lon\": 6.7333\n",
      "   },\n",
      "   \"dt\": 1667603206,\n",
      "   \"id\": 2936977,\n",
      "   \"main\": {\n",
      "      \"feels_like\": 281.99,\n",
      "      \"grnd_level\": 993,\n",
      "      \"humidity\": 99,\n",
      "      \"pressure\": 1015,\n",
      "      \"sea_level\": 1015,\n",
      "      \"temp\": 281.99,\n",
      "      \"temp_max\": 282.56,\n",
      "      \"temp_min\": 281.7\n",
      "   },\n",
      "   \"name\": \"Dillingen\",\n",
      "   \"rain\": {\n",
      "      \"1h\": 0.15\n",
      "   },\n",
      "   \"sys\": {\n",
      "      \"country\": \"DE\",\n",
      "      \"id\": 2009774,\n",
      "      \"sunrise\": 1667629635,\n",
      "      \"sunset\": 1667664362,\n",
      "      \"type\": 2\n",
      "   },\n",
      "   \"timezone\": 3600,\n",
      "   \"visibility\": 10000,\n",
      "   \"weather\": [\n",
      "      {\n",
      "         \"description\": \"light rain\",\n",
      "         \"icon\": \"10n\",\n",
      "         \"id\": 500,\n",
      "         \"main\": \"Rain\"\n",
      "      }\n",
      "   ],\n",
      "   \"wind\": {\n",
      "      \"deg\": 287,\n",
      "      \"gust\": 1.3,\n",
      "      \"speed\": 0.96\n",
      "   }\n",
      "}\n"
     ]
    }
   ],
   "source": [
    "#This section was purely to look at what the api returned. For all cities please go to next block.\n",
    "url = 'http://api.openweathermap.org/data/2.5/weather?'\n",
    "search_test = url + \"appid=\" + weather_api_key + \"&q=\" + cities[0]\n",
    "weather_city_test = requests.get(search_test)\n",
    "weather_city_json = weather_city_test.json()\n",
    "weather = json.dumps(weather_city_json, indent = 3, sort_keys = True)\n",
    "print(weather)"
   ]
  },
  {
   "cell_type": "markdown",
   "metadata": {},
   "source": [
    "### Perform API Calls\n",
    "* Perform a weather check on each city using a series of successive API calls.\n",
    "* Include a print log of each city as it'sbeing processed (with the city number and city name).\n"
   ]
  },
  {
   "cell_type": "code",
   "execution_count": 114,
   "metadata": {
    "scrolled": true
   },
   "outputs": [
    {
     "name": "stdout",
     "output_type": "stream",
     "text": [
      "Beginning data retrieval\n",
      "------------------------------\n",
      "dillingen found\n",
      "novara found\n",
      "butaritari found\n",
      "airai found\n",
      "portland found\n",
      "rikitea found\n",
      "venice found\n",
      "busselton found\n",
      "nome found\n",
      "albany found\n",
      "xining found\n",
      "mataura found\n",
      "palabuhanratu not found\n",
      "cape town found\n",
      "chuy found\n",
      "umm lajj found\n",
      "barentsburg not found\n",
      "kalmunai found\n",
      "hithadhoo found\n",
      "cauquenes found\n",
      "punta arenas found\n",
      "seredka found\n",
      "taolanaro not found\n",
      "moose factory found\n",
      "kapaa found\n",
      "aksarka found\n",
      "bethel found\n",
      "leirvik found\n",
      "lavrentiya found\n",
      "burns lake found\n",
      "saint george found\n",
      "nikolskoye found\n",
      "bredasdorp found\n",
      "hilo found\n",
      "novonikolayevskiy found\n",
      "atuona found\n",
      "jamestown found\n",
      "awjilah found\n",
      "samusu not found\n",
      "ribeira grande found\n",
      "pietarsaari found\n",
      "vaini found\n",
      "saldanha found\n",
      "berlevag found\n",
      "ketchikan found\n",
      "dianopolis not found\n",
      "leh found\n",
      "tautira found\n",
      "otavi found\n",
      "clyde river found\n",
      "sao filipe found\n",
      "esterhazy found\n",
      "dunedin found\n",
      "pisco found\n",
      "saint-philippe found\n",
      "ushuaia found\n",
      "noumea found\n",
      "simbahan found\n",
      "hermanus found\n",
      "saint-georges found\n",
      "iroquois found\n",
      "port alfred found\n",
      "broken hill found\n",
      "tuktoyaktuk found\n",
      "gari found\n",
      "novyy urgal found\n",
      "pinotepa nacional found\n",
      "qaanaaq found\n",
      "castro found\n",
      "tumannyy not found\n",
      "taoudenni found\n",
      "kozan found\n",
      "georgetown found\n",
      "carutapera found\n",
      "tsihombe not found\n",
      "carnarvon found\n",
      "svetlogorsk found\n",
      "tolaga bay found\n",
      "dikson found\n",
      "jablanica found\n",
      "new norfolk found\n",
      "vestmannaeyjar found\n",
      "namatanai found\n",
      "santa fe found\n",
      "nabire found\n",
      "madimba found\n",
      "severo-kurilsk found\n",
      "rivera found\n",
      "fort saint james found\n",
      "kavieng found\n",
      "sopelana found\n",
      "christchurch found\n",
      "marcona not found\n",
      "aksay found\n",
      "ambon found\n",
      "hobart found\n",
      "ponta do sol found\n",
      "mys shmidta not found\n",
      "dingle found\n",
      "east london found\n",
      "mahebourg found\n",
      "roma found\n",
      "barrow found\n",
      "faanui found\n",
      "byron bay found\n",
      "bethanien found\n",
      "road town found\n",
      "luderitz found\n",
      "belushya guba not found\n",
      "kaitangata found\n",
      "show low found\n",
      "bluff found\n",
      "port elizabeth found\n",
      "aquiraz found\n",
      "gumdag found\n",
      "beawar found\n",
      "longyearbyen found\n",
      "helong found\n",
      "umzimvubu not found\n",
      "ngukurr not found\n",
      "avarua found\n",
      "matara found\n",
      "chokurdakh found\n",
      "mar del plata found\n",
      "katsuura found\n",
      "beringovskiy found\n",
      "muisne found\n",
      "molteno found\n",
      "channel-port aux basques found\n",
      "ryotsu found\n",
      "attawapiskat not found\n",
      "mecca found\n",
      "provideniya found\n",
      "asyut found\n",
      "nedjo found\n",
      "yellowknife found\n",
      "lagoa found\n",
      "sentyabrskiy not found\n",
      "bouillante found\n",
      "paamiut found\n",
      "asosa found\n",
      "inyonga found\n",
      "georgiyevka found\n",
      "illoqqortoormiut not found\n",
      "la ronge found\n",
      "premnitz found\n",
      "pospelikha found\n",
      "tsiroanomandidy found\n",
      "nouadhibou found\n",
      "arraial do cabo found\n",
      "parian dakula found\n",
      "corrales found\n",
      "vardo found\n",
      "sola found\n",
      "norman wells found\n",
      "terrace found\n",
      "goundam found\n",
      "chaman found\n",
      "hofn found\n",
      "filadelfia found\n",
      "prescott valley found\n",
      "manacapuru found\n",
      "hasaki found\n",
      "churapcha found\n",
      "deputatskiy found\n",
      "haines junction found\n",
      "rocha found\n",
      "lompoc found\n",
      "ancud found\n",
      "griffith found\n",
      "iquitos found\n",
      "guerrero negro found\n",
      "kodiak found\n",
      "juxtlahuaca found\n",
      "ilulissat found\n",
      "bambous virieux found\n",
      "coquimbo found\n",
      "lorengau found\n",
      "tuatapere found\n",
      "richards bay found\n",
      "blackwater found\n",
      "tasiilaq found\n",
      "wagar found\n",
      "santo antonio do sudoeste found\n",
      "vestmanna found\n",
      "longlac not found\n",
      "torbay found\n",
      "mount gambier found\n",
      "amderma not found\n",
      "flinders found\n",
      "talcahuano found\n",
      "grand river south east not found\n",
      "tiksi found\n",
      "victoria found\n",
      "kembe found\n",
      "westport found\n",
      "piat found\n",
      "saleaula not found\n",
      "ottawa found\n",
      "mahon found\n",
      "port lincoln found\n",
      "saskylakh found\n",
      "hlukhiv found\n",
      "grindavik found\n",
      "sangar found\n",
      "muravlenko found\n",
      "porto novo found\n",
      "port-louis found\n",
      "bengkulu found\n",
      "jiexiu found\n",
      "asayita not found\n",
      "marin found\n",
      "wattegama found\n",
      "bilibino found\n",
      "cherskiy found\n",
      "husavik found\n",
      "umm kaddadah found\n",
      "nikko found\n",
      "surt found\n",
      "port hedland found\n",
      "inhambane found\n",
      "ayan found\n",
      "la asuncion found\n",
      "puerto ayora found\n",
      "mulege found\n",
      "cabo san lucas found\n",
      "yar-sale found\n",
      "lebu found\n",
      "santa cruz found\n",
      "north bend found\n",
      "inuvik found\n",
      "astana found\n",
      "kayes found\n",
      "sampit found\n",
      "cervo found\n",
      "sofiysk not found\n",
      "samarai found\n",
      "rock sound found\n",
      "mehamn found\n",
      "kramat found\n",
      "mayor pablo lagerenza found\n",
      "ucluelet found\n",
      "aklavik found\n",
      "omsukchan found\n",
      "bodhan found\n",
      "upernavik found\n",
      "ozernovskiy found\n",
      "venado tuerto found\n",
      "howard springs found\n",
      "kruisfontein found\n",
      "buraydah found\n",
      "zhezkazgan found\n",
      "kirgiz-miyaki found\n",
      "polyarnyy found\n",
      "iqaluit found\n",
      "le mans found\n",
      "cidreira found\n",
      "constitucion found\n",
      "vetlanda found\n",
      "san javier found\n",
      "san quintin found\n",
      "garwa found\n",
      "oksfjord found\n",
      "karratha found\n",
      "liberty found\n",
      "luwuk found\n",
      "singkawang found\n",
      "saint anthony found\n",
      "egvekinot found\n",
      "kazalinsk not found\n",
      "meybod found\n",
      "vaitupu not found\n",
      "ostrovnoy found\n",
      "saint-paul found\n",
      "kakrala found\n",
      "nanfeng found\n",
      "lichuan found\n",
      "touho found\n",
      "susehri found\n",
      "three hills found\n",
      "cockburn harbour not found\n",
      "kharakvasla found\n",
      "aleksandrovka found\n",
      "billings found\n",
      "pierre found\n",
      "joshimath found\n",
      "barcelos found\n",
      "jiroft not found\n",
      "bismarck found\n",
      "toliary not found\n",
      "nago found\n",
      "kenai found\n",
      "sarkand found\n",
      "kibakwe found\n",
      "yerbogachen found\n",
      "bhawanipatna found\n",
      "benghazi found\n",
      "kahului found\n",
      "lodwar found\n",
      "santo stino di livenza found\n",
      "wajir found\n",
      "ambulu found\n",
      "gorno-chuyskiy not found\n",
      "nizhneyansk not found\n",
      "bereda found\n",
      "sretensk found\n",
      "oranjestad found\n",
      "torata found\n",
      "cap malheureux found\n",
      "ahipara found\n",
      "abu zabad found\n",
      "makung not found\n",
      "esperance found\n",
      "camacha found\n",
      "salvador found\n",
      "manicore found\n",
      "khatanga found\n",
      "marfino found\n",
      "fairbanks found\n",
      "motygino found\n",
      "eskisehir found\n",
      "belyy yar found\n",
      "ippy found\n",
      "san patricio found\n",
      "togur found\n",
      "brae found\n",
      "aswan found\n",
      "codrington found\n",
      "gulabpura found\n",
      "hamilton found\n",
      "leningradskiy found\n",
      "amasia found\n",
      "pekalongan found\n",
      "benxi found\n",
      "miri found\n",
      "akhtanizovskaya found\n",
      "antofagasta found\n",
      "hovd found\n",
      "urusha found\n",
      "kasempa found\n",
      "beisfjord found\n",
      "itarema found\n",
      "abaza found\n",
      "thompson found\n",
      "baykit found\n",
      "sindor found\n",
      "trincomalee found\n",
      "guadalupe y calvo found\n",
      "doha found\n",
      "hurup found\n",
      "geraldton found\n",
      "istok found\n",
      "davila found\n",
      "ahuimanu found\n",
      "touros found\n",
      "port macquarie found\n",
      "college found\n",
      "perry found\n",
      "dunkirk found\n",
      "kamenka found\n",
      "grand gaube found\n",
      "opuwo found\n",
      "marsh harbour found\n",
      "nemuro found\n",
      "chimbote found\n",
      "salamiyah found\n",
      "luanda found\n",
      "diu found\n",
      "conceicao do araguaia found\n",
      "nanortalik found\n",
      "los llanos de aridane found\n",
      "zudilovo found\n",
      "champerico found\n",
      "bentiu found\n",
      "rudnogorsk found\n",
      "borgo san dalmazzo found\n",
      "pimentel found\n",
      "sao jose da coroa grande found\n",
      "sao joao da barra found\n",
      "san jose found\n",
      "korla found\n",
      "bani found\n",
      "port keats found\n",
      "terracina found\n",
      "fresnillo found\n",
      "san pedro de macoris found\n",
      "osakarovka found\n",
      "fortuna found\n",
      "lovozero found\n",
      "kitamoto found\n",
      "sioux lookout found\n",
      "shitanjing found\n",
      "guozhen found\n",
      "minab found\n",
      "raymondville found\n",
      "nchelenge found\n",
      "mackay found\n",
      "half moon bay found\n",
      "boende found\n",
      "el wasta not found\n",
      "ejido found\n",
      "puerto escondido found\n",
      "maradi found\n",
      "voskresenskoye found\n",
      "chantada found\n",
      "houma found\n",
      "bara found\n",
      "banjar found\n",
      "samalaeulu not found\n",
      "labuhan found\n",
      "nassau found\n",
      "estepona found\n",
      "salta found\n",
      "seymchan found\n",
      "westerland found\n",
      "teguise found\n",
      "valparaiso found\n",
      "bandarbeyla found\n",
      "pangody found\n",
      "ilhabela found\n",
      "steamboat springs found\n",
      "brigantine found\n",
      "najran found\n",
      "fare found\n",
      "mafra found\n",
      "makakilo city found\n",
      "marawi found\n",
      "narsaq found\n",
      "coos bay found\n",
      "mikuni found\n",
      "adeje found\n",
      "yirol not found\n",
      "bathsheba found\n",
      "satitoa not found\n",
      "kavaratti found\n",
      "sitka found\n",
      "guaruja found\n",
      "pevek found\n",
      "ellensburg found\n",
      "lykhivka found\n",
      "krasnokamensk found\n",
      "azimur not found\n",
      "savannah bight found\n",
      "leninskoye found\n",
      "samfya found\n",
      "yulara found\n",
      "do gonbadan found\n",
      "jinchang found\n",
      "kyritz found\n",
      "san policarpo found\n",
      "orlik found\n",
      "scarborough found\n",
      "tarudant not found\n",
      "avera found\n",
      "pringsewu found\n",
      "aksu found\n",
      "tilichiki found\n",
      "ocampo found\n",
      "killybegs found\n",
      "taman found\n",
      "maniitsoq found\n",
      "kaeo found\n",
      "ileza found\n",
      "amapa found\n",
      "almaznyy found\n",
      "micheweni found\n",
      "kilimatinde found\n",
      "cap-aux-meules found\n",
      "karabash found\n",
      "otjiwarongo found\n",
      "batagay found\n",
      "mount pleasant found\n",
      "maxixe found\n",
      "mao found\n",
      "manado found\n",
      "bayanday found\n",
      "merauke found\n",
      "longjiang found\n",
      "kyabe found\n",
      "cordoba found\n",
      "tambacounda found\n",
      "argir found\n",
      "belaya gora found\n",
      "verkh-suetka found\n",
      "formoso do araguaia not found\n",
      "sulangan found\n",
      "mbini found\n",
      "moerai found\n",
      "aiken found\n",
      "lazaro cardenas found\n",
      "alice springs found\n",
      "haradok found\n",
      "turukhansk found\n",
      "sur found\n",
      "port-cartier found\n",
      "bela found\n",
      "tateyama found\n",
      "okha found\n",
      "gat found\n",
      "george town found\n",
      "port blair found\n",
      "wainwright found\n",
      "petropavlovsk-kamchatskiy found\n",
      "boca do acre found\n",
      "vanimo found\n",
      "yuancheng found\n",
      "esmeraldas found\n",
      "rawson found\n",
      "henties bay found\n",
      "coihaique found\n",
      "oistins found\n",
      "anadyr found\n",
      "yomitan not found\n"
     ]
    },
    {
     "name": "stdout",
     "output_type": "stream",
     "text": [
      "mangrol found\n",
      "maloshuyka not found\n",
      "takoradi found\n",
      "havre-saint-pierre found\n",
      "urengoy found\n",
      "glenwood springs found\n",
      "two hills found\n",
      "roald found\n",
      "padang found\n",
      "mrirt not found\n",
      "viedma found\n",
      "tura found\n",
      "richmond found\n",
      "kidal found\n",
      "maroantsetra found\n",
      "kudahuvadhoo found\n",
      "pokhara found\n",
      "nurota found\n",
      "chicama found\n",
      "kirillov found\n",
      "rio gallegos found\n",
      "masuguru found\n",
      "tokonou found\n",
      "mae sai found\n",
      "kuliyapitiya found\n",
      "buzmeyin found\n",
      "souillac found\n",
      "buri found\n",
      "goderich found\n",
      "mangile not found\n",
      "sharan found\n",
      "bethal found\n",
      "zeya found\n",
      "harper found\n",
      "serenje found\n",
      "lalitpur found\n",
      "vostok found\n",
      "montmagny found\n",
      "klaksvik found\n",
      "pacific grove found\n",
      "bolshaya atnya not found\n",
      "doctor pedro p. pena not found\n",
      "saint-louis found\n",
      "meyungs not found\n",
      "mount isa found\n",
      "porbandar found\n",
      "tucurui found\n",
      "pozo colorado found\n",
      "cayenne found\n",
      "eldorado found\n",
      "bonavista found\n",
      "matozinhos found\n",
      "nuuk found\n",
      "neringa found\n",
      "khani found\n",
      "teguldet found\n",
      "broome found\n",
      "luganville found\n",
      "saryshagan not found\n",
      "mana found\n",
      "tahe found\n",
      "gushikawa found\n",
      "palmer found\n",
      "la gaulette not found\n",
      "carauari found\n",
      "joao pinheiro found\n",
      "orange found\n",
      "bull savanna found\n",
      "toftir not found\n",
      "xuanzhou found\n",
      "aripuana found\n",
      "marseille found\n",
      "pontes e lacerda found\n",
      "harunabad found\n",
      "yandoon not found\n",
      "tezu found\n",
      "hapur found\n",
      "meulaboh found\n",
      "bima found\n",
      "fukue found\n",
      "caravelas found\n",
      "rio grande found\n",
      "debre sina found\n",
      "chato found\n",
      "dutse found\n",
      "pasinler found\n",
      "narkevychi found\n",
      "tabou found\n",
      "guarapari found\n",
      "araouane found\n",
      "tukrah found\n",
      "groningen found\n",
      "kanker found\n",
      "lubango found\n",
      "caramay found\n",
      "shingu found\n",
      "vao found\n",
      "marystown found\n"
     ]
    }
   ],
   "source": [
    "url = 'https://api.openweathermap.org/data/2.5/weather?'\n",
    "my_cities = []\n",
    "latitude = []\n",
    "longitude = []\n",
    "Max_Temp = []\n",
    "Humidity = []\n",
    "Cloudiness = []\n",
    "Wind_speed = []\n",
    "Country = []\n",
    "Date = []\n",
    "\n",
    "print('Beginning data retrieval')\n",
    "print('-'*30)\n",
    "for city in cities:\n",
    "    \n",
    "    search = url + \"appid=\" + weather_api_key + \"&q=\" + city\n",
    "    weather_city = requests.get(search).json()\n",
    "    \n",
    "    try:\n",
    "        latitude.append(weather_city['coord']['lat'])\n",
    "        longitude.append(weather_city['coord']['lon'])\n",
    "        Max_Temp.append(weather_city['main']['temp_max'])\n",
    "        Humidity.append(weather_city['main']['humidity'])\n",
    "        Cloudiness.append(weather_city['clouds']['all'])\n",
    "        Wind_speed.append(weather_city['wind']['speed'])\n",
    "        Country.append(weather_city['sys']['country'])\n",
    "        Date.append(weather_city['dt'])\n",
    "        print(f'{city} found')\n",
    "        my_cities.append(city)\n",
    "    except:\n",
    "        print(f'{city} not found')\n"
   ]
  },
  {
   "cell_type": "code",
   "execution_count": 7,
   "metadata": {},
   "outputs": [
    {
     "name": "stdout",
     "output_type": "stream",
     "text": [
      "564\n",
      "564\n",
      "564\n",
      "564\n",
      "564\n",
      "564\n",
      "564\n",
      "564\n",
      "564\n"
     ]
    }
   ],
   "source": [
    "print(len(my_cities))\n",
    "print(len(latitude))\n",
    "print(len(longitude))\n",
    "print(len(Max_Temp))\n",
    "print(len(Humidity))\n",
    "print(len(Cloudiness))\n",
    "print(len(Wind_speed))\n",
    "print(len(Country))\n",
    "print(len(Date))"
   ]
  },
  {
   "cell_type": "markdown",
   "metadata": {},
   "source": [
    "### Convert Raw Data to DataFrame\n",
    "* Export the city data into a .csv.\n",
    "* Display the DataFrame"
   ]
  },
  {
   "cell_type": "code",
   "execution_count": 5,
   "metadata": {
    "scrolled": true
   },
   "outputs": [
    {
     "data": {
      "text/html": [
       "<div>\n",
       "<style scoped>\n",
       "    .dataframe tbody tr th:only-of-type {\n",
       "        vertical-align: middle;\n",
       "    }\n",
       "\n",
       "    .dataframe tbody tr th {\n",
       "        vertical-align: top;\n",
       "    }\n",
       "\n",
       "    .dataframe thead th {\n",
       "        text-align: right;\n",
       "    }\n",
       "</style>\n",
       "<table border=\"1\" class=\"dataframe\">\n",
       "  <thead>\n",
       "    <tr style=\"text-align: right;\">\n",
       "      <th></th>\n",
       "      <th>Cities</th>\n",
       "      <th>Latitude</th>\n",
       "      <th>Longitude</th>\n",
       "      <th>Max temperature</th>\n",
       "      <th>Humidity</th>\n",
       "      <th>Cloudiness</th>\n",
       "      <th>Wind Speed</th>\n",
       "      <th>Country</th>\n",
       "      <th>Date</th>\n",
       "    </tr>\n",
       "  </thead>\n",
       "  <tbody>\n",
       "    <tr>\n",
       "      <th>0</th>\n",
       "      <td>dillingen</td>\n",
       "      <td>49.3500</td>\n",
       "      <td>6.7333</td>\n",
       "      <td>283.62</td>\n",
       "      <td>99</td>\n",
       "      <td>67</td>\n",
       "      <td>1.10</td>\n",
       "      <td>DE</td>\n",
       "      <td>1667588975</td>\n",
       "    </tr>\n",
       "    <tr>\n",
       "      <th>1</th>\n",
       "      <td>novara</td>\n",
       "      <td>45.5853</td>\n",
       "      <td>8.5778</td>\n",
       "      <td>285.98</td>\n",
       "      <td>80</td>\n",
       "      <td>0</td>\n",
       "      <td>1.54</td>\n",
       "      <td>IT</td>\n",
       "      <td>1667588722</td>\n",
       "    </tr>\n",
       "    <tr>\n",
       "      <th>2</th>\n",
       "      <td>butaritari</td>\n",
       "      <td>3.0707</td>\n",
       "      <td>172.7902</td>\n",
       "      <td>299.51</td>\n",
       "      <td>74</td>\n",
       "      <td>99</td>\n",
       "      <td>3.44</td>\n",
       "      <td>KI</td>\n",
       "      <td>1667588977</td>\n",
       "    </tr>\n",
       "    <tr>\n",
       "      <th>3</th>\n",
       "      <td>airai</td>\n",
       "      <td>-8.9266</td>\n",
       "      <td>125.4092</td>\n",
       "      <td>288.91</td>\n",
       "      <td>83</td>\n",
       "      <td>71</td>\n",
       "      <td>0.82</td>\n",
       "      <td>TL</td>\n",
       "      <td>1667588931</td>\n",
       "    </tr>\n",
       "    <tr>\n",
       "      <th>4</th>\n",
       "      <td>portland</td>\n",
       "      <td>45.5234</td>\n",
       "      <td>-122.6762</td>\n",
       "      <td>286.77</td>\n",
       "      <td>92</td>\n",
       "      <td>100</td>\n",
       "      <td>6.71</td>\n",
       "      <td>US</td>\n",
       "      <td>1667588911</td>\n",
       "    </tr>\n",
       "  </tbody>\n",
       "</table>\n",
       "</div>"
      ],
      "text/plain": [
       "       Cities  Latitude  Longitude  Max temperature  Humidity  Cloudiness  \\\n",
       "0   dillingen   49.3500     6.7333           283.62        99          67   \n",
       "1      novara   45.5853     8.5778           285.98        80           0   \n",
       "2  butaritari    3.0707   172.7902           299.51        74          99   \n",
       "3       airai   -8.9266   125.4092           288.91        83          71   \n",
       "4    portland   45.5234  -122.6762           286.77        92         100   \n",
       "\n",
       "   Wind Speed Country        Date  \n",
       "0        1.10      DE  1667588975  \n",
       "1        1.54      IT  1667588722  \n",
       "2        3.44      KI  1667588977  \n",
       "3        0.82      TL  1667588931  \n",
       "4        6.71      US  1667588911  "
      ]
     },
     "execution_count": 5,
     "metadata": {},
     "output_type": "execute_result"
    }
   ],
   "source": [
    "city_frame = pd.DataFrame({'Cities':my_cities,'Latitude':latitude, 'Longitude': longitude,\n",
    "                           'Max temperature': Max_Temp, 'Humidity': Humidity, 'Cloudiness':Cloudiness, \n",
    "                           'Wind Speed': Wind_speed, 'Country': Country,'Date':Date})\n",
    "city_frame.head()"
   ]
  },
  {
   "cell_type": "code",
   "execution_count": 115,
   "metadata": {},
   "outputs": [],
   "source": [
    "city_frame.to_csv(\"city_frame.csv\", index=False, header=True)"
   ]
  },
  {
   "cell_type": "code",
   "execution_count": 6,
   "metadata": {},
   "outputs": [
    {
     "data": {
      "text/html": [
       "<div>\n",
       "<style scoped>\n",
       "    .dataframe tbody tr th:only-of-type {\n",
       "        vertical-align: middle;\n",
       "    }\n",
       "\n",
       "    .dataframe tbody tr th {\n",
       "        vertical-align: top;\n",
       "    }\n",
       "\n",
       "    .dataframe thead th {\n",
       "        text-align: right;\n",
       "    }\n",
       "</style>\n",
       "<table border=\"1\" class=\"dataframe\">\n",
       "  <thead>\n",
       "    <tr style=\"text-align: right;\">\n",
       "      <th></th>\n",
       "      <th>Latitude</th>\n",
       "      <th>Longitude</th>\n",
       "      <th>Max temperature</th>\n",
       "      <th>Humidity</th>\n",
       "      <th>Cloudiness</th>\n",
       "      <th>Wind Speed</th>\n",
       "      <th>Date</th>\n",
       "    </tr>\n",
       "  </thead>\n",
       "  <tbody>\n",
       "    <tr>\n",
       "      <th>count</th>\n",
       "      <td>564.000000</td>\n",
       "      <td>564.000000</td>\n",
       "      <td>564.000000</td>\n",
       "      <td>564.000000</td>\n",
       "      <td>564.000000</td>\n",
       "      <td>564.000000</td>\n",
       "      <td>5.640000e+02</td>\n",
       "    </tr>\n",
       "    <tr>\n",
       "      <th>mean</th>\n",
       "      <td>21.187593</td>\n",
       "      <td>15.281591</td>\n",
       "      <td>287.237270</td>\n",
       "      <td>70.677305</td>\n",
       "      <td>56.570922</td>\n",
       "      <td>3.518227</td>\n",
       "      <td>1.667589e+09</td>\n",
       "    </tr>\n",
       "    <tr>\n",
       "      <th>std</th>\n",
       "      <td>33.103719</td>\n",
       "      <td>90.436812</td>\n",
       "      <td>13.329176</td>\n",
       "      <td>21.287062</td>\n",
       "      <td>41.847778</td>\n",
       "      <td>2.453632</td>\n",
       "      <td>1.016040e+02</td>\n",
       "    </tr>\n",
       "    <tr>\n",
       "      <th>min</th>\n",
       "      <td>-54.800000</td>\n",
       "      <td>-179.166700</td>\n",
       "      <td>244.950000</td>\n",
       "      <td>8.000000</td>\n",
       "      <td>0.000000</td>\n",
       "      <td>0.000000</td>\n",
       "      <td>1.667588e+09</td>\n",
       "    </tr>\n",
       "    <tr>\n",
       "      <th>25%</th>\n",
       "      <td>-6.746700</td>\n",
       "      <td>-63.274675</td>\n",
       "      <td>279.242500</td>\n",
       "      <td>59.000000</td>\n",
       "      <td>10.000000</td>\n",
       "      <td>1.607500</td>\n",
       "      <td>1.667589e+09</td>\n",
       "    </tr>\n",
       "    <tr>\n",
       "      <th>50%</th>\n",
       "      <td>26.735700</td>\n",
       "      <td>21.255800</td>\n",
       "      <td>290.955000</td>\n",
       "      <td>76.000000</td>\n",
       "      <td>70.000000</td>\n",
       "      <td>2.915000</td>\n",
       "      <td>1.667589e+09</td>\n",
       "    </tr>\n",
       "    <tr>\n",
       "      <th>75%</th>\n",
       "      <td>48.943025</td>\n",
       "      <td>88.029150</td>\n",
       "      <td>297.612500</td>\n",
       "      <td>86.250000</td>\n",
       "      <td>100.000000</td>\n",
       "      <td>4.745000</td>\n",
       "      <td>1.667589e+09</td>\n",
       "    </tr>\n",
       "    <tr>\n",
       "      <th>max</th>\n",
       "      <td>78.218600</td>\n",
       "      <td>179.316700</td>\n",
       "      <td>307.600000</td>\n",
       "      <td>100.000000</td>\n",
       "      <td>100.000000</td>\n",
       "      <td>15.550000</td>\n",
       "      <td>1.667589e+09</td>\n",
       "    </tr>\n",
       "  </tbody>\n",
       "</table>\n",
       "</div>"
      ],
      "text/plain": [
       "         Latitude   Longitude  Max temperature    Humidity  Cloudiness  \\\n",
       "count  564.000000  564.000000       564.000000  564.000000  564.000000   \n",
       "mean    21.187593   15.281591       287.237270   70.677305   56.570922   \n",
       "std     33.103719   90.436812        13.329176   21.287062   41.847778   \n",
       "min    -54.800000 -179.166700       244.950000    8.000000    0.000000   \n",
       "25%     -6.746700  -63.274675       279.242500   59.000000   10.000000   \n",
       "50%     26.735700   21.255800       290.955000   76.000000   70.000000   \n",
       "75%     48.943025   88.029150       297.612500   86.250000  100.000000   \n",
       "max     78.218600  179.316700       307.600000  100.000000  100.000000   \n",
       "\n",
       "       Wind Speed          Date  \n",
       "count  564.000000  5.640000e+02  \n",
       "mean     3.518227  1.667589e+09  \n",
       "std      2.453632  1.016040e+02  \n",
       "min      0.000000  1.667588e+09  \n",
       "25%      1.607500  1.667589e+09  \n",
       "50%      2.915000  1.667589e+09  \n",
       "75%      4.745000  1.667589e+09  \n",
       "max     15.550000  1.667589e+09  "
      ]
     },
     "execution_count": 6,
     "metadata": {},
     "output_type": "execute_result"
    }
   ],
   "source": [
    "city_frame.describe()\n",
    "#the dataframe contains places with 100% humidity"
   ]
  },
  {
   "cell_type": "markdown",
   "metadata": {},
   "source": [
    "## Inspect the data and remove the cities where the humidity > 100%.\n",
    "----\n",
    "Skip this step if there are no cities that have humidity > 100%. "
   ]
  },
  {
   "cell_type": "code",
   "execution_count": 7,
   "metadata": {
    "scrolled": false
   },
   "outputs": [
    {
     "data": {
      "text/html": [
       "<div>\n",
       "<style scoped>\n",
       "    .dataframe tbody tr th:only-of-type {\n",
       "        vertical-align: middle;\n",
       "    }\n",
       "\n",
       "    .dataframe tbody tr th {\n",
       "        vertical-align: top;\n",
       "    }\n",
       "\n",
       "    .dataframe thead th {\n",
       "        text-align: right;\n",
       "    }\n",
       "</style>\n",
       "<table border=\"1\" class=\"dataframe\">\n",
       "  <thead>\n",
       "    <tr style=\"text-align: right;\">\n",
       "      <th></th>\n",
       "      <th>Cities</th>\n",
       "      <th>Latitude</th>\n",
       "      <th>Longitude</th>\n",
       "      <th>Max temperature</th>\n",
       "      <th>Humidity</th>\n",
       "      <th>Cloudiness</th>\n",
       "      <th>Wind Speed</th>\n",
       "      <th>Country</th>\n",
       "      <th>Date</th>\n",
       "    </tr>\n",
       "  </thead>\n",
       "  <tbody>\n",
       "    <tr>\n",
       "      <th>140</th>\n",
       "      <td>terrace</td>\n",
       "      <td>54.5163</td>\n",
       "      <td>-128.6035</td>\n",
       "      <td>275.10</td>\n",
       "      <td>100</td>\n",
       "      <td>100</td>\n",
       "      <td>1.03</td>\n",
       "      <td>CA</td>\n",
       "      <td>1667589028</td>\n",
       "    </tr>\n",
       "    <tr>\n",
       "      <th>148</th>\n",
       "      <td>churapcha</td>\n",
       "      <td>62.0025</td>\n",
       "      <td>132.4325</td>\n",
       "      <td>250.67</td>\n",
       "      <td>100</td>\n",
       "      <td>98</td>\n",
       "      <td>1.95</td>\n",
       "      <td>RU</td>\n",
       "      <td>1667589030</td>\n",
       "    </tr>\n",
       "    <tr>\n",
       "      <th>276</th>\n",
       "      <td>bereda</td>\n",
       "      <td>43.2686</td>\n",
       "      <td>-7.5406</td>\n",
       "      <td>282.91</td>\n",
       "      <td>100</td>\n",
       "      <td>42</td>\n",
       "      <td>0.67</td>\n",
       "      <td>ES</td>\n",
       "      <td>1667589070</td>\n",
       "    </tr>\n",
       "    <tr>\n",
       "      <th>287</th>\n",
       "      <td>khatanga</td>\n",
       "      <td>71.9667</td>\n",
       "      <td>102.5000</td>\n",
       "      <td>246.78</td>\n",
       "      <td>100</td>\n",
       "      <td>65</td>\n",
       "      <td>0.83</td>\n",
       "      <td>RU</td>\n",
       "      <td>1667589074</td>\n",
       "    </tr>\n",
       "    <tr>\n",
       "      <th>447</th>\n",
       "      <td>belaya gora</td>\n",
       "      <td>68.5333</td>\n",
       "      <td>146.4167</td>\n",
       "      <td>244.95</td>\n",
       "      <td>100</td>\n",
       "      <td>98</td>\n",
       "      <td>0.74</td>\n",
       "      <td>RU</td>\n",
       "      <td>1667588877</td>\n",
       "    </tr>\n",
       "    <tr>\n",
       "      <th>466</th>\n",
       "      <td>petropavlovsk-kamchatskiy</td>\n",
       "      <td>53.0452</td>\n",
       "      <td>158.6483</td>\n",
       "      <td>271.48</td>\n",
       "      <td>100</td>\n",
       "      <td>75</td>\n",
       "      <td>1.00</td>\n",
       "      <td>RU</td>\n",
       "      <td>1667589142</td>\n",
       "    </tr>\n",
       "    <tr>\n",
       "      <th>482</th>\n",
       "      <td>roald</td>\n",
       "      <td>62.5833</td>\n",
       "      <td>6.1333</td>\n",
       "      <td>283.80</td>\n",
       "      <td>100</td>\n",
       "      <td>75</td>\n",
       "      <td>1.03</td>\n",
       "      <td>NO</td>\n",
       "      <td>1667589148</td>\n",
       "    </tr>\n",
       "  </tbody>\n",
       "</table>\n",
       "</div>"
      ],
      "text/plain": [
       "                        Cities  Latitude  Longitude  Max temperature  \\\n",
       "140                    terrace   54.5163  -128.6035           275.10   \n",
       "148                  churapcha   62.0025   132.4325           250.67   \n",
       "276                     bereda   43.2686    -7.5406           282.91   \n",
       "287                   khatanga   71.9667   102.5000           246.78   \n",
       "447                belaya gora   68.5333   146.4167           244.95   \n",
       "466  petropavlovsk-kamchatskiy   53.0452   158.6483           271.48   \n",
       "482                      roald   62.5833     6.1333           283.80   \n",
       "\n",
       "     Humidity  Cloudiness  Wind Speed Country        Date  \n",
       "140       100         100        1.03      CA  1667589028  \n",
       "148       100          98        1.95      RU  1667589030  \n",
       "276       100          42        0.67      ES  1667589070  \n",
       "287       100          65        0.83      RU  1667589074  \n",
       "447       100          98        0.74      RU  1667588877  \n",
       "466       100          75        1.00      RU  1667589142  \n",
       "482       100          75        1.03      NO  1667589148  "
      ]
     },
     "execution_count": 7,
     "metadata": {},
     "output_type": "execute_result"
    }
   ],
   "source": [
    "humid100 = city_frame.loc[city_frame['Humidity'] == 100]\n",
    "humid100"
   ]
  },
  {
   "cell_type": "code",
   "execution_count": 17,
   "metadata": {},
   "outputs": [
    {
     "data": {
      "text/plain": [
       "Int64Index([], dtype='int64')"
      ]
     },
     "execution_count": 17,
     "metadata": {},
     "output_type": "execute_result"
    }
   ],
   "source": [
    "#  Get the indices of cities that have humidity over 100%.\n"
   ]
  },
  {
   "cell_type": "code",
   "execution_count": 52,
   "metadata": {
    "scrolled": true
   },
   "outputs": [
    {
     "name": "stderr",
     "output_type": "stream",
     "text": [
      "D:\\school files\\Certificate course\\anaconda\\envs\\PythonData\\lib\\site-packages\\ipykernel_launcher.py:4: SettingWithCopyWarning: \n",
      "A value is trying to be set on a copy of a slice from a DataFrame.\n",
      "Try using .loc[row_indexer,col_indexer] = value instead\n",
      "\n",
      "See the caveats in the documentation: https://pandas.pydata.org/pandas-docs/stable/user_guide/indexing.html#returning-a-view-versus-a-copy\n",
      "  after removing the cwd from sys.path.\n"
     ]
    },
    {
     "data": {
      "text/html": [
       "<div>\n",
       "<style scoped>\n",
       "    .dataframe tbody tr th:only-of-type {\n",
       "        vertical-align: middle;\n",
       "    }\n",
       "\n",
       "    .dataframe tbody tr th {\n",
       "        vertical-align: top;\n",
       "    }\n",
       "\n",
       "    .dataframe thead th {\n",
       "        text-align: right;\n",
       "    }\n",
       "</style>\n",
       "<table border=\"1\" class=\"dataframe\">\n",
       "  <thead>\n",
       "    <tr style=\"text-align: right;\">\n",
       "      <th></th>\n",
       "      <th>Cities</th>\n",
       "      <th>Latitude</th>\n",
       "      <th>Longitude</th>\n",
       "      <th>Max temperature</th>\n",
       "      <th>Humidity</th>\n",
       "      <th>Cloudiness</th>\n",
       "      <th>Wind Speed</th>\n",
       "      <th>Country</th>\n",
       "      <th>Date</th>\n",
       "      <th>Max Temperature (F)</th>\n",
       "    </tr>\n",
       "  </thead>\n",
       "  <tbody>\n",
       "    <tr>\n",
       "      <th>0</th>\n",
       "      <td>dillingen</td>\n",
       "      <td>49.3500</td>\n",
       "      <td>6.7333</td>\n",
       "      <td>283.62</td>\n",
       "      <td>99</td>\n",
       "      <td>67</td>\n",
       "      <td>1.10</td>\n",
       "      <td>DE</td>\n",
       "      <td>1667588975</td>\n",
       "      <td>50.846</td>\n",
       "    </tr>\n",
       "    <tr>\n",
       "      <th>1</th>\n",
       "      <td>novara</td>\n",
       "      <td>45.5853</td>\n",
       "      <td>8.5778</td>\n",
       "      <td>285.98</td>\n",
       "      <td>80</td>\n",
       "      <td>0</td>\n",
       "      <td>1.54</td>\n",
       "      <td>IT</td>\n",
       "      <td>1667588722</td>\n",
       "      <td>55.094</td>\n",
       "    </tr>\n",
       "    <tr>\n",
       "      <th>2</th>\n",
       "      <td>butaritari</td>\n",
       "      <td>3.0707</td>\n",
       "      <td>172.7902</td>\n",
       "      <td>299.51</td>\n",
       "      <td>74</td>\n",
       "      <td>99</td>\n",
       "      <td>3.44</td>\n",
       "      <td>KI</td>\n",
       "      <td>1667588977</td>\n",
       "      <td>79.448</td>\n",
       "    </tr>\n",
       "    <tr>\n",
       "      <th>3</th>\n",
       "      <td>airai</td>\n",
       "      <td>-8.9266</td>\n",
       "      <td>125.4092</td>\n",
       "      <td>288.91</td>\n",
       "      <td>83</td>\n",
       "      <td>71</td>\n",
       "      <td>0.82</td>\n",
       "      <td>TL</td>\n",
       "      <td>1667588931</td>\n",
       "      <td>60.368</td>\n",
       "    </tr>\n",
       "    <tr>\n",
       "      <th>4</th>\n",
       "      <td>portland</td>\n",
       "      <td>45.5234</td>\n",
       "      <td>-122.6762</td>\n",
       "      <td>286.77</td>\n",
       "      <td>92</td>\n",
       "      <td>100</td>\n",
       "      <td>6.71</td>\n",
       "      <td>US</td>\n",
       "      <td>1667588911</td>\n",
       "      <td>56.516</td>\n",
       "    </tr>\n",
       "  </tbody>\n",
       "</table>\n",
       "</div>"
      ],
      "text/plain": [
       "       Cities  Latitude  Longitude  Max temperature  Humidity  Cloudiness  \\\n",
       "0   dillingen   49.3500     6.7333           283.62        99          67   \n",
       "1      novara   45.5853     8.5778           285.98        80           0   \n",
       "2  butaritari    3.0707   172.7902           299.51        74          99   \n",
       "3       airai   -8.9266   125.4092           288.91        83          71   \n",
       "4    portland   45.5234  -122.6762           286.77        92         100   \n",
       "\n",
       "   Wind Speed Country        Date  Max Temperature (F)  \n",
       "0        1.10      DE  1667588975               50.846  \n",
       "1        1.54      IT  1667588722               55.094  \n",
       "2        3.44      KI  1667588977               79.448  \n",
       "3        0.82      TL  1667588931               60.368  \n",
       "4        6.71      US  1667588911               56.516  "
      ]
     },
     "execution_count": 52,
     "metadata": {},
     "output_type": "execute_result"
    }
   ],
   "source": [
    "# Make a new DataFrame equal to the city data to drop all humidity outliers by index.\n",
    "# Passing \"inplace=False\" will make a copy of the city_data DataFrame, which we call \"clean_city_data\".\n",
    "clean_city_data = city_frame.loc[city_frame['Humidity'] != 100]\n",
    "clean_city_data['Max Temperature (F)']= (clean_city_data['Max temperature']-273.15)*(9/5)+32\n",
    "clean_city_data.head()"
   ]
  },
  {
   "cell_type": "code",
   "execution_count": null,
   "metadata": {},
   "outputs": [],
   "source": [
    "\n"
   ]
  },
  {
   "cell_type": "markdown",
   "metadata": {},
   "source": [
    "## Plotting the Data\n",
    "* Use proper labeling of the plots using plot titles (including date of analysis) and axes labels.\n",
    "* Save the plotted figures as .pngs."
   ]
  },
  {
   "cell_type": "markdown",
   "metadata": {},
   "source": [
    "## Latitude vs. Temperature Plot"
   ]
  },
  {
   "cell_type": "code",
   "execution_count": 34,
   "metadata": {
    "scrolled": true
   },
   "outputs": [
    {
     "data": {
      "image/png": "[encoded data removed]",
      "text/plain": [
       "<Figure size 432x288 with 1 Axes>"
      ]
     },
     "metadata": {
      "needs_background": "light"
     },
     "output_type": "display_data"
    }
   ],
   "source": [
    "x_axislat = clean_city_data['Latitude']\n",
    "y_axismaxtemp = clean_city_data['Max Temperature (F)']\n",
    "plt.scatter(x_axislat,y_axismaxtemp, color = 'blue', edgecolor = 'black')\n",
    "plt.xlabel('Latitude')\n",
    "plt.ylabel('Max Temperature (F)')\n",
    "plt.title('Max Temp. vs Latitude')\n",
    "plt.grid()\n",
    "plt.savefig('Lat vs Max_Temp.png')\n",
    "plt.show()"
   ]
  },
  {
   "cell_type": "markdown",
   "metadata": {},
   "source": [
    "## Latitude vs. Humidity Plot"
   ]
  },
  {
   "cell_type": "code",
   "execution_count": 23,
   "metadata": {},
   "outputs": [
    {
     "data": {
      "image/png": "[encoded data removed]",
      "text/plain": [
       "<Figure size 432x288 with 1 Axes>"
      ]
     },
     "metadata": {
      "needs_background": "light"
     },
     "output_type": "display_data"
    }
   ],
   "source": [
    "y_axishumid = clean_city_data['Humidity']\n",
    "plt.scatter(x_axislat, y_axishumid, color = 'green', edgecolor = 'black')\n",
    "plt.xlabel('Latitude')\n",
    "plt.ylabel('Humidity(%)')\n",
    "plt.title('City Latitude vs. Humidity (11/04/22)')\n",
    "plt.grid()\n",
    "plt.savefig('Lat vs Humidity.png')\n",
    "plt.show()"
   ]
  },
  {
   "cell_type": "markdown",
   "metadata": {},
   "source": [
    "## Latitude vs. Cloudiness Plot"
   ]
  },
  {
   "cell_type": "code",
   "execution_count": 24,
   "metadata": {},
   "outputs": [
    {
     "data": {
      "image/png": "[encoded data removed]",
      "text/plain": [
       "<Figure size 432x288 with 1 Axes>"
      ]
     },
     "metadata": {
      "needs_background": "light"
     },
     "output_type": "display_data"
    }
   ],
   "source": [
    "y_axiscloud = clean_city_data['Cloudiness']\n",
    "plt.scatter(x_axislat, y_axiscloud, color = 'red', edgecolor = 'black')\n",
    "plt.xlabel('Latitude')\n",
    "plt.ylabel('Cloudiness(%)')\n",
    "plt.title('City Latitude vs. Cloudiness (11/04/22)')\n",
    "plt.grid()\n",
    "plt.savefig('Lat vs Cloudiness.png')\n",
    "plt.show()"
   ]
  },
  {
   "cell_type": "markdown",
   "metadata": {},
   "source": [
    "## Latitude vs. Wind Speed Plot"
   ]
  },
  {
   "cell_type": "code",
   "execution_count": 25,
   "metadata": {},
   "outputs": [
    {
     "data": {
      "image/png": "[encoded data removed]",
      "text/plain": [
       "<Figure size 432x288 with 1 Axes>"
      ]
     },
     "metadata": {
      "needs_background": "light"
     },
     "output_type": "display_data"
    }
   ],
   "source": [
    "y_axiswind = clean_city_data['Wind Speed']\n",
    "plt.scatter(x_axislat, y_axiswind, color = 'orange', edgecolor = 'black')\n",
    "plt.xlabel('Latitude')\n",
    "plt.ylabel('Wind Speed')\n",
    "plt.title('City Latitude vs. Wind Speed (11/04/22)')\n",
    "plt.grid()\n",
    "plt.savefig('Lat vs Wind Speed.png')\n",
    "plt.show()"
   ]
  },
  {
   "cell_type": "markdown",
   "metadata": {},
   "source": [
    "## Linear Regression"
   ]
  },
  {
   "cell_type": "code",
   "execution_count": 50,
   "metadata": {},
   "outputs": [
    {
     "data": {
      "text/plain": [
       "557"
      ]
     },
     "execution_count": 50,
     "metadata": {},
     "output_type": "execute_result"
    }
   ],
   "source": [
    "north_hem_frame = clean_city_data.loc[clean_city_data['Latitude']>0]\n",
    "south_hem_frame = clean_city_data.loc[clean_city_data['Latitude']<0]"
   ]
  },
  {
   "cell_type": "markdown",
   "metadata": {},
   "source": [
    "####  Northern Hemisphere - Max Temp vs. Latitude Linear Regression"
   ]
  },
  {
   "cell_type": "code",
   "execution_count": 102,
   "metadata": {},
   "outputs": [
    {
     "name": "stdout",
     "output_type": "stream",
     "text": [
      "The r squared value is 0.7190580481330536\n"
     ]
    },
    {
     "data": {
      "image/png": "[encoded data removed]",
      "text/plain": [
       "<Figure size 432x288 with 1 Axes>"
      ]
     },
     "metadata": {
      "needs_background": "light"
     },
     "output_type": "display_data"
    }
   ],
   "source": [
    "x_axisnorthlat = north_hem_frame['Latitude']\n",
    "y_axisnorthmaxtemp = north_hem_frame['Max Temperature (F)']\n",
    "(slope, intercept, rvalue, pvalue, stderr) = linregress(x_axisnorthlat, y_axisnorthmaxtemp)\n",
    "regress_values = x_axisnorthlat * slope + intercept\n",
    "line_eq = \"y = \" + str(round(slope,2)) + \"x + \" + str(round(intercept,2))\n",
    "plt.scatter(x_axisnorthlat, y_axisnorthmaxtemp, color = 'blue', edgecolor = 'black')\n",
    "plt.plot(x_axisnorthlat,regress_values,\"r-\")\n",
    "plt.annotate(line_eq,(5.8,0.8),fontsize=15,color=\"red\")\n",
    "plt.xlabel('Latitude')\n",
    "plt.ylabel('Max Temperature (F)')\n",
    "plt.title('Max Temp. vs Latitude for Northern Hemisphere')\n",
    "plt.grid()\n",
    "plt.savefig('Lat vs Max_Temp (North).png')\n",
    "print(f'The r squared value is {rvalue**2}')\n",
    "plt.show()\n"
   ]
  },
  {
   "cell_type": "markdown",
   "metadata": {},
   "source": [
    "####  Southern Hemisphere - Max Temp vs. Latitude Linear Regression"
   ]
  },
  {
   "cell_type": "code",
   "execution_count": 103,
   "metadata": {},
   "outputs": [
    {
     "name": "stdout",
     "output_type": "stream",
     "text": [
      "The r squared value is 0.4084229789947995\n"
     ]
    },
    {
     "data": {
      "image/png": "[encoded data removed]",
      "text/plain": [
       "<Figure size 432x288 with 1 Axes>"
      ]
     },
     "metadata": {
      "needs_background": "light"
     },
     "output_type": "display_data"
    }
   ],
   "source": [
    "x_axissouthlat = south_hem_frame['Latitude']\n",
    "y_axissouthmaxtemp = south_hem_frame['Max Temperature (F)']\n",
    "(slope, intercept, rvalue, pvalue, stderr) = linregress(x_axissouthlat, y_axissouthmaxtemp)\n",
    "regress_values = x_axissouthlat * slope + intercept\n",
    "line_eq = \"y = \" + str(round(slope,2)) + \"x + \" + str(round(intercept,2))\n",
    "plt.scatter(x_axissouthlat, y_axissouthmaxtemp, color = 'blue', edgecolor = 'black')\n",
    "plt.plot(x_axissouthlat,regress_values,\"r-\")\n",
    "plt.annotate(line_eq,(-30,45),fontsize=15,color=\"red\")\n",
    "plt.xlabel('Latitude')\n",
    "plt.ylabel('Max Temperature (F)')\n",
    "plt.title('Max Temp. vs Latitude for Southern Hemisphere')\n",
    "plt.grid()\n",
    "plt.savefig('Lat vs Max_Temp (South).png')\n",
    "print(f'The r squared value is {rvalue**2}')\n",
    "plt.show()\n"
   ]
  },
  {
   "cell_type": "markdown",
   "metadata": {},
   "source": [
    "####  Northern Hemisphere - Humidity (%) vs. Latitude Linear Regression"
   ]
  },
  {
   "cell_type": "code",
   "execution_count": 104,
   "metadata": {},
   "outputs": [
    {
     "name": "stdout",
     "output_type": "stream",
     "text": [
      "The r squared value is 0.15420142015197563\n"
     ]
    },
    {
     "data": {
      "image/png": "[encoded data removed]",
      "text/plain": [
       "<Figure size 432x288 with 1 Axes>"
      ]
     },
     "metadata": {
      "needs_background": "light"
     },
     "output_type": "display_data"
    }
   ],
   "source": [
    "y_axisnorthhumid = north_hem_frame['Humidity']\n",
    "(slope, intercept, rvalue, pvalue, stderr) = linregress(x_axisnorthlat, y_axisnorthhumid)\n",
    "regress_values = x_axisnorthlat * slope + intercept\n",
    "line_eq = \"y = \" + str(round(slope,2)) + \"x + \" + str(round(intercept,2))\n",
    "plt.scatter(x_axisnorthlat, y_axisnorthhumid, color = 'red', edgecolor = 'black')\n",
    "plt.plot(x_axisnorthlat,regress_values,\"g-\")\n",
    "plt.annotate(line_eq,(43,20),fontsize=15,color=\"green\")\n",
    "plt.xlabel('Latitude')\n",
    "plt.ylabel('Humidity (%)')\n",
    "plt.title('Humidity (%) vs Latitude for Northern Hemisphere')\n",
    "plt.grid()\n",
    "plt.savefig('Lat vs Humidity (%) (North).png')\n",
    "print(f'The r squared value is {rvalue**2}')\n",
    "plt.show()"
   ]
  },
  {
   "cell_type": "markdown",
   "metadata": {},
   "source": [
    "####  Southern Hemisphere - Humidity (%) vs. Latitude Linear Regression"
   ]
  },
  {
   "cell_type": "code",
   "execution_count": 105,
   "metadata": {},
   "outputs": [
    {
     "name": "stdout",
     "output_type": "stream",
     "text": [
      "The r squared value is 0.009306511866121029\n"
     ]
    },
    {
     "data": {
      "image/png": "[encoded data removed]",
      "text/plain": [
       "<Figure size 432x288 with 1 Axes>"
      ]
     },
     "metadata": {
      "needs_background": "light"
     },
     "output_type": "display_data"
    }
   ],
   "source": [
    "y_axissouthhumid = south_hem_frame['Humidity']\n",
    "(slope, intercept, rvalue, pvalue, stderr) = linregress(x_axissouthlat, y_axissouthhumid)\n",
    "regress_values = x_axissouthlat * slope + intercept\n",
    "line_eq = \"y = \" + str(round(slope,2)) + \"x + \" + str(round(intercept,2))\n",
    "plt.scatter(x_axissouthlat, y_axissouthhumid, color = 'red', edgecolor = 'black')\n",
    "plt.plot(x_axissouthlat,regress_values,\"g-\")\n",
    "plt.annotate(line_eq,(-57,30),fontsize=15,color=\"green\")\n",
    "plt.xlabel('Latitude')\n",
    "plt.ylabel('Humidity (%)')\n",
    "plt.title('Humidity (%) vs Latitude for Southern Hemisphere')\n",
    "plt.grid()\n",
    "plt.savefig('Lat vs Humidity (%) (South).png')\n",
    "print(f'The r squared value is {rvalue**2}')\n",
    "plt.show()\n"
   ]
  },
  {
   "cell_type": "markdown",
   "metadata": {},
   "source": [
    "####  Northern Hemisphere - Cloudiness (%) vs. Latitude Linear Regression"
   ]
  },
  {
   "cell_type": "code",
   "execution_count": 106,
   "metadata": {
    "scrolled": true
   },
   "outputs": [
    {
     "name": "stdout",
     "output_type": "stream",
     "text": [
      "The r squared value is 0.03555346223381623\n"
     ]
    },
    {
     "data": {
      "image/png": "[encoded data removed]",
      "text/plain": [
       "<Figure size 432x288 with 1 Axes>"
      ]
     },
     "metadata": {
      "needs_background": "light"
     },
     "output_type": "display_data"
    }
   ],
   "source": [
    "y_axisnorthcloud = north_hem_frame['Cloudiness']\n",
    "(slope, intercept, rvalue, pvalue, stderr) = linregress(x_axisnorthlat, y_axisnorthcloud)\n",
    "regress_values = x_axisnorthlat * slope + intercept\n",
    "line_eq = \"y = \" + str(round(slope,2)) + \"x + \" + str(round(intercept,2))\n",
    "plt.scatter(x_axisnorthlat, y_axisnorthcloud, color = 'yellow', edgecolor = 'black')\n",
    "plt.plot(x_axisnorthlat,regress_values,\"r-\")\n",
    "plt.annotate(line_eq,(5,60),fontsize=15,color=\"red\")\n",
    "plt.xlabel('Latitude')\n",
    "plt.ylabel('Cloudiness(%)')\n",
    "plt.title('Cloudiness(%) vs Latitude for Northern Hemisphere')\n",
    "plt.grid()\n",
    "plt.savefig('Lat vs Cloudiness(%) (North).png')\n",
    "print(f'The r squared value is {rvalue**2}')\n",
    "plt.show()\n"
   ]
  },
  {
   "cell_type": "markdown",
   "metadata": {},
   "source": [
    "####  Southern Hemisphere - Cloudiness (%) vs. Latitude Linear Regression"
   ]
  },
  {
   "cell_type": "code",
   "execution_count": 107,
   "metadata": {},
   "outputs": [
    {
     "name": "stdout",
     "output_type": "stream",
     "text": [
      "The r squared value is 0.017063401581959414\n"
     ]
    },
    {
     "data": {
      "image/png": "[encoded data removed]",
      "text/plain": [
       "<Figure size 432x288 with 1 Axes>"
      ]
     },
     "metadata": {
      "needs_background": "light"
     },
     "output_type": "display_data"
    }
   ],
   "source": [
    "y_axissouthcloud = south_hem_frame['Cloudiness']\n",
    "(slope, intercept, rvalue, pvalue, stderr) = linregress(x_axissouthlat, y_axissouthcloud)\n",
    "regress_values = x_axissouthlat * slope + intercept\n",
    "line_eq = \"y = \" + str(round(slope,2)) + \"x + \" + str(round(intercept,2))\n",
    "plt.scatter(x_axissouthlat, y_axissouthcloud, color = 'yellow', edgecolor = 'black')\n",
    "plt.plot(x_axissouthlat,regress_values,\"r-\")\n",
    "plt.annotate(line_eq,(-50,30),fontsize=15,color=\"red\")\n",
    "plt.xlabel('Latitude')\n",
    "plt.ylabel('Cloudiness (%)')\n",
    "plt.title('Cloudiness (%) vs Latitude for Southern Hemisphere')\n",
    "plt.grid()\n",
    "plt.savefig('Lat vs Cloudiness (%) (South).png')\n",
    "print(f'The r squared value is {rvalue**2}')\n",
    "plt.show()"
   ]
  },
  {
   "cell_type": "markdown",
   "metadata": {},
   "source": [
    "####  Northern Hemisphere - Wind Speed (mph) vs. Latitude Linear Regression"
   ]
  },
  {
   "cell_type": "code",
   "execution_count": 108,
   "metadata": {},
   "outputs": [
    {
     "name": "stdout",
     "output_type": "stream",
     "text": [
      "The r squared value is 0.013782908567527043\n"
     ]
    },
    {
     "data": {
      "image/png": "[encoded data removed]",
      "text/plain": [
       "<Figure size 432x288 with 1 Axes>"
      ]
     },
     "metadata": {
      "needs_background": "light"
     },
     "output_type": "display_data"
    }
   ],
   "source": [
    "y_axisnorthwind = north_hem_frame['Wind Speed']\n",
    "(slope, intercept, rvalue, pvalue, stderr) = linregress(x_axisnorthlat, y_axisnorthwind)\n",
    "regress_values = x_axisnorthlat * slope + intercept\n",
    "line_eq = \"y = \" + str(round(slope,2)) + \"x + \" + str(round(intercept,2))\n",
    "plt.scatter(x_axisnorthlat, y_axisnorthwind, color = 'yellow', edgecolor = 'black')\n",
    "plt.plot(x_axisnorthlat,regress_values,\"blue\")\n",
    "plt.annotate(line_eq,(10,14),fontsize=15,color=\"blue\")\n",
    "plt.xlabel('Latitude')\n",
    "plt.ylabel('Wind Speed')\n",
    "plt.title('Wind Speed vs Latitude for Northern Hemisphere')\n",
    "plt.grid()\n",
    "plt.savefig('Lat vs Wind Speed (North).png')\n",
    "print(f'The r squared value is {rvalue**2}')\n",
    "plt.show()"
   ]
  },
  {
   "cell_type": "markdown",
   "metadata": {},
   "source": [
    "####  Southern Hemisphere - Wind Speed (mph) vs. Latitude Linear Regression"
   ]
  },
  {
   "cell_type": "code",
   "execution_count": 110,
   "metadata": {},
   "outputs": [
    {
     "name": "stdout",
     "output_type": "stream",
     "text": [
      "The r squared value is 0.11092850038215796\n"
     ]
    },
    {
     "data": {
      "image/png": "[encoded data removed]",
      "text/plain": [
       "<Figure size 432x288 with 1 Axes>"
      ]
     },
     "metadata": {
      "needs_background": "light"
     },
     "output_type": "display_data"
    }
   ],
   "source": [
    "y_axissouthwind = south_hem_frame['Wind Speed']\n",
    "(slope, intercept, rvalue, pvalue, stderr) = linregress(x_axissouthlat, y_axissouthwind)\n",
    "regress_values = x_axissouthlat * slope + intercept\n",
    "line_eq = \"y = \" + str(round(slope,2)) + \"x + \" + str(round(intercept,2))\n",
    "plt.scatter(x_axissouthlat, y_axissouthwind, color = 'yellow', edgecolor = 'black')\n",
    "plt.plot(x_axissouthlat,regress_values,\"blue\")\n",
    "plt.annotate(line_eq,(-30,10),fontsize=15,color=\"blue\")\n",
    "plt.xlabel('Latitude')\n",
    "plt.ylabel('Wind Speed')\n",
    "plt.title('Wind Speed vs Latitude for Southern Hemisphere')\n",
    "plt.grid()\n",
    "plt.savefig('Lat vs Wind Speed (South).png')\n",
    "print(f'The r squared value is {rvalue**2}')\n",
    "plt.show()"
   ]
  },
  {
   "cell_type": "code",
   "execution_count": null,
   "metadata": {},
   "outputs": [],
   "source": []
  }
 ],
 "metadata": {
  "anaconda-cloud": {},
  "kernel_info": {
   "name": "python3"
  },
  "kernelspec": {
   "display_name": "Python 3 (ipykernel)",
   "language": "python",
   "name": "python3"
  },
  "language_info": {
   "codemirror_mode": {
    "name": "ipython",
    "version": 3
   },
   "file_extension": ".py",
   "mimetype": "text/x-python",
   "name": "python",
   "nbconvert_exporter": "python",
   "pygments_lexer": "ipython3",
   "version": "3.7.7"
  },
  "latex_envs": {
   "LaTeX_envs_menu_present": true,
   "autoclose": false,
   "autocomplete": true,
   "bibliofile": "biblio.bib",
   "cite_by": "apalike",
   "current_citInitial": 1,
   "eqLabelWithNumbers": true,
   "eqNumInitial": 1,
   "hotkeys": {
    "equation": "Ctrl-E",
    "itemize": "Ctrl-I"
   },
   "labels_anchors": false,
   "latex_user_defs": false,
   "report_style_numbering": false,
   "user_envs_cfg": false
  },
  "nteract": {
   "version": "0.12.3"
  }
 },
 "nbformat": 4,
 "nbformat_minor": 2
}
